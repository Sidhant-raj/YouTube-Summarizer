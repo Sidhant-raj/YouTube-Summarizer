{
 "cells": [
  {
   "cell_type": "code",
   "execution_count": 1,
   "id": "2bc9f9e3",
   "metadata": {},
   "outputs": [],
   "source": [
    "# !pip install youtube-transcript-api"
   ]
  },
  {
   "cell_type": "code",
   "execution_count": 1,
   "id": "65a87968",
   "metadata": {
    "scrolled": true
   },
   "outputs": [
    {
     "name": "stdout",
     "output_type": "stream",
     "text": [
      "once upon a time in a small village there lived a boy named Rohan Rohan was known for his laziness and lack of ambition he had a habit of wasting time and procrastinating on important tasks despite the constant advice from his family and friends to Value time Rohan didn't seem to understand its importance one sunny day a wise old man named Mr Gupta arrived in the village he was known for his wisdom and ability to solve people's problems word quickly spread and soon Rohan heard about the arrival of Mr Gupta curiosity peaked he decided to seek the old man's guidance Rohan approached Mr Gupta who was sitting under a large banyan tree with a respectful bow he asks sir I've been told that you possess great wisdom can you please guide me on how to make the most of my life Mr Gupta smiled and nodded understanding the young man's struggle he took out an hourglass from his bag and handed it to Rohan this hourglass symbolizes time he said each grain of sand represents a precious moment of your life Rohan held The Hourglass in his hands feeling the weight of its signifi now Mr Gupta continued I want you to imagine that each grain of sand falling through this hourglass is a wasted opportunity every time you procrastinate or waste time a grain slips away forever Rohan realizing the gravity of his actions listened intently as Mr Gupta continued time is a precious gift my boy it waits for no one every second that passes is a second you cannot retrieve if you keep squandering it you will wake up one day filled with regret feeling a sense of urgency Rohan asked but how can I change how can I value time and make the most of it Mr Gupta smiled warmly it begins with small steps he said start by setting goals and prioritize your tasks break them down into manageable parts and focus on completing them one by one learn to manage your time effectively remember success comes to those who understand the value of time Rohan took the old man's advice to heart and decided to change his ways he began by organizing his daily routine setting specific time frames for different activities he eliminated distractions and focused solely on the task at hand gradually Rohan noticed a positive shift in his life days turned into weeks and weeks into months rohan's Newfound dedication and discipline paid off he accomplished tasks that he had been putting off for years he pursued his passions and discovered hidden talents the villagers marveled at the remarkable transformation they witnessed in Rohan over time Rohan realized that the true power of time lay not just in accomplishing tasks but in nurturing relationships he spent quality time with his family and friends appreciating the moments they shared he understood that time was a limited resource and every second spent in the company of loved ones was a treasure years passed and Rohan grew old his village honored him for his remarkable achievements and his wise use of time he shared his journey with the younger generation urging them to cherish every passing moment and make the most of their lives rohan's story spread far and wide inspiring countless individuals to reevaluate their relationship with time people began to understand that time was not just a mere commodity but a precious gift that needed to be treasured and so the Village thrived Under the wisdom of Mr Gupta and the transformed life of Rohan reminding everyone of the importance of time and the power it held to shape their destinies\n"
     ]
    }
   ],
   "source": [
    "from youtube_transcript_api import YouTubeTranscriptApi\n",
    "\n",
    "video_url = \"https://www.youtube.com/watch?v=5g1LtbCtVhs&ab_channel=AlphaLife\"  \n",
    "\n",
    "video_id = video_url.split(\"v=\")[1]\n",
    "\n",
    "try:\n",
    "    transcript = YouTubeTranscriptApi.get_transcript(video_id, languages=['en'])\n",
    "    transcript_text = \" \".join([entry['text'] for entry in transcript])\n",
    "\n",
    "    # Print the transcript\n",
    "    print(transcript_text)\n",
    "except Exception as e:\n",
    "    print(f\"Error: {str(e)}\")\n"
   ]
  },
  {
   "cell_type": "code",
   "execution_count": 2,
   "id": "5e0e9e24",
   "metadata": {},
   "outputs": [
    {
     "data": {
      "text/plain": [
       "str"
      ]
     },
     "execution_count": 2,
     "metadata": {},
     "output_type": "execute_result"
    }
   ],
   "source": [
    "type(transcript_text)"
   ]
  },
  {
   "cell_type": "code",
   "execution_count": 3,
   "id": "67da0e07",
   "metadata": {},
   "outputs": [],
   "source": [
    "from transformers import pipeline"
   ]
  },
  {
   "cell_type": "code",
   "execution_count": 5,
   "id": "b98a6b31",
   "metadata": {},
   "outputs": [],
   "source": [
    "# summarizer = pipeline('summarization', model='t5-small', tokenizer='t5-small')"
   ]
  },
  {
   "cell_type": "code",
   "execution_count": 6,
   "id": "e290c82c",
   "metadata": {},
   "outputs": [],
   "source": [
    "# num_iters = int(len(transcript_text)/1000)\n",
    "# summarized_text = []\n",
    "# for i in range(0, num_iters + 1):\n",
    "#   start = 0\n",
    "#   start = i * 1000\n",
    "#   end = (i + 1) * 1000\n",
    "# #   print(\"input text \\n\" + transcript_text[start:end])\n",
    "#   out = summarizer(transcript_text[start:end], length_penalty=2.0, max_length=90, min_length=10)\n",
    "#   out = out[0]\n",
    "#   out = out['summary_text']\n",
    "# #   print(\"Summarized text\\n\"+out)\n",
    "#   summarized_text.append(out)\n",
    "\n",
    "# print(summarized_text)"
   ]
  },
  {
   "cell_type": "code",
   "execution_count": null,
   "id": "0a09440b",
   "metadata": {},
   "outputs": [
    {
     "data": {
      "application/vnd.jupyter.widget-view+json": {
       "model_id": "fa5e10cc7ebe42229bb5dc59d0e85f38",
       "version_major": 2,
       "version_minor": 0
      },
      "text/plain": [
       "Downloading:   0%|          | 0.00/1.80k [00:00<?, ?B/s]"
      ]
     },
     "metadata": {},
     "output_type": "display_data"
    },
    {
     "name": "stderr",
     "output_type": "stream",
     "text": [
      "C:\\ProgramData\\anaconda3\\lib\\site-packages\\huggingface_hub\\file_download.py:123: UserWarning: `huggingface_hub` cache-system uses symlinks by default to efficiently store duplicated files but your machine does not support them in C:\\Users\\sidha\\.cache\\huggingface\\hub. Caching files will still work but in a degraded version that might require more space on your disk. This warning can be disabled by setting the `HF_HUB_DISABLE_SYMLINKS_WARNING` environment variable. For more details, see https://huggingface.co/docs/huggingface_hub/how-to-cache#limitations.\n",
      "To support symlinks on Windows, you either need to activate Developer Mode or to run Python as an administrator. In order to see activate developer mode, see this article: https://docs.microsoft.com/en-us/windows/apps/get-started/enable-your-device-for-development\n",
      "  warnings.warn(message)\n"
     ]
    },
    {
     "data": {
      "application/vnd.jupyter.widget-view+json": {
       "model_id": "31a4dc5958cd4e5e9e4ae13bb1598c5f",
       "version_major": 2,
       "version_minor": 0
      },
      "text/plain": [
       "Downloading:   0%|          | 0.00/1.22G [00:00<?, ?B/s]"
      ]
     },
     "metadata": {},
     "output_type": "display_data"
    }
   ],
   "source": [
    "summarizer = pipeline('summarization', model='sshleifer/distilbart-cnn-12-6')"
   ]
  },
  {
   "cell_type": "code",
   "execution_count": 8,
   "id": "d793acbc",
   "metadata": {},
   "outputs": [
    {
     "name": "stdout",
     "output_type": "stream",
     "text": [
      "[' Once upon a time there was a kingdom named rangapura the king of rangapuram became very religious in the middle of his region and he started Distributing lands to people in the name of God . A lot of crops grew there and those lands brought in a lot of money for people . The people then decided that they had to do something with money instead of Justice keeping it .', ' The charitable building would help us earn a good name for our village we need to hire a cook cleaners and several accountants that can keep track of all the expenses that we are spending in that way we can do right by the poor and needy of this Village Village and other Villages this is a decision and it is final now .', ' e Fine Day a man from neighboring Village he was not able to go to the Village since it was night he decided to stay in the charitable building . The charitable building was built from the money that were made from the land of gods but now you ar .', \" This place is a charitable place but the people that are working here such as ourselves we have families to look after as well if you go to a restaurant or a food Stop nearby they will Serge you a lot of money . If you cannot give that small amount of money then you do not have to stay here you can leave immediately please don't argue with me anymore .\", ' Workers in charitable building show him no mercy they grab him and throw him out of building that night . The man slipped out of the building under a tree without food or shelter the next day he woke up and he was walking toward the city .', \" A man named ramayya walked towards towards towards the worker of the charitable building as he sees him he says this to him who are you . The worker was surprised what is this this this boy seems like a G man yet he is deaf it doesn't matter he seems to be a very wealthy individual so I can steal a lot of money from him anyway .\", ' If he wants things to be arranged for you such as food clothing shelter you have to first give a small amount of money . Listen to me but if if I yell at him he starts getting angry listen to me . I do not need that luxury whatsoever just give me a blanket and a pillow and I would be able to sleep on it .', ' The accountant entered the place and he said this what noise is this can you know what is happening this man is absolutely driving me crazy he seems to be deaf when I say something he responds by saying something else fine you keep your mouth shut let me talk to him and deal with him after that the accountant went to ramayya and said this to him listen to me .', ' The worker takes ramayya into the charitable building and gets a Sher ready for him . The worker then looks at him and says this could you please give me some money at least now I have arrange a shower for you what you yourself want to personally rub my back are you my wife to do that?', \" Ramaya stands in the corner as Ramaya takes a shower and then changes his clothes and looks at the worker and says this why are you still here didn't I tell you to go and get my food ready immediately I'm really hungry the worker does not know what to say or do .\", ' Walker felt like killing himself but then realized that he cannot converse with this man again he then takes him to the place where he can feed him . The woman who was serving food came to him and she said this give me money and I Shall Serve You food worker tries to talks to the woman but she interrupts and says you should have taken some money from him from the beginning .', \" The worker quietly walks out of the house he STS through the window to know what is happening there he was curious please give me food as fast as you can I want to eat and go to sleep please bring me the food I will give you the food don't worry but first give me my money I do not have any diseases whatsoever .\", \" If I I I ask you for money for food instead of giving me the money you are telling me that my husband is dead and my children are also dead and you are cursing me like this if you don't give me money I will not give you food . Ramaya then looks around to see what she can do but she did not know how to solve this issue . The worker who was staring from the window was laughing if I I\", ' Bushan and several of Elders in the village went to visit the charitable building but just to check if everything is going well as soon as bushan reached the building the accountant greeted him but the people inside like worker and the woman what was happening outside you are a deaf man but how dare you talk to her .', \" Ramaya is none other than Ban's first son who is studying in the city father 2 days ago my friend came to stay here but he was thrown away by these people and he wasn't given any food or Hospitality that is the reason why I came in here and acted like a deaf man .\", ' Those people were fired and new people were brought into work in the charitable building . Once in every two weeks there would be somebody there to check and regulate if everything is going well from that day onwards charitable building started helping people again .']\n"
     ]
    }
   ],
   "source": [
    "num_iters = int(len(transcript_text)/1000)\n",
    "summarized_text = []\n",
    "for i in range(0, num_iters + 1):\n",
    "  start = 0\n",
    "  start = i * 1000\n",
    "  end = (i + 1) * 1000\n",
    "#   print(\"input text \\n\" + transcript_text[start:end])\n",
    "  out = summarizer(transcript_text[start:end], length_penalty=2.0, max_length=90, min_length=10)\n",
    "  out = out[0]\n",
    "  out = out['summary_text']\n",
    "#   print(\"Summarized text\\n\"+out)\n",
    "  summarized_text.append(out)\n",
    "\n",
    "print(summarized_text)"
   ]
  },
  {
   "cell_type": "code",
   "execution_count": 9,
   "id": "a339c633",
   "metadata": {},
   "outputs": [
    {
     "name": "stdout",
     "output_type": "stream",
     "text": [
      "369 15516\n"
     ]
    }
   ],
   "source": [
    "print(len(summarized_text[0]), len(transcript_text))"
   ]
  },
  {
   "cell_type": "code",
   "execution_count": 10,
   "id": "cbc958ae",
   "metadata": {},
   "outputs": [
    {
     "name": "stdout",
     "output_type": "stream",
     "text": [
      "5015\n"
     ]
    }
   ],
   "source": [
    "sum = 0\n",
    "for i in summarized_text:\n",
    "    sum = sum + len(i)\n",
    "print(sum)"
   ]
  },
  {
   "cell_type": "code",
   "execution_count": 11,
   "id": "81ce9831",
   "metadata": {},
   "outputs": [
    {
     "name": "stdout",
     "output_type": "stream",
     "text": [
      " Once upon a time there was a kingdom named rangapura the king of rangapuram became very religious in the middle of his region and he started Distributing lands to people in the name of God . A lot of crops grew there and those lands brought in a lot of money for people . The people then decided that they had to do something with money instead of Justice keeping it . The charitable building would help us earn a good name for our village we need to hire a cook cleaners and several accountants that can keep track of all the expenses that we are spending in that way we can do right by the poor and needy of this Village Village and other Villages this is a decision and it is final now . e Fine Day a man from neighboring Village he was not able to go to the Village since it was night he decided to stay in the charitable building . The charitable building was built from the money that were made from the land of gods but now you ar . This place is a charitable place but the people that are working here such as ourselves we have families to look after as well if you go to a restaurant or a food Stop nearby they will Serge you a lot of money . If you cannot give that small amount of money then you do not have to stay here you can leave immediately please don't argue with me anymore . Workers in charitable building show him no mercy they grab him and throw him out of building that night . The man slipped out of the building under a tree without food or shelter the next day he woke up and he was walking toward the city . A man named ramayya walked towards towards towards the worker of the charitable building as he sees him he says this to him who are you . The worker was surprised what is this this this boy seems like a G man yet he is deaf it doesn't matter he seems to be a very wealthy individual so I can steal a lot of money from him anyway . If he wants things to be arranged for you such as food clothing shelter you have to first give a small amount of money . Listen to me but if if I yell at him he starts getting angry listen to me . I do not need that luxury whatsoever just give me a blanket and a pillow and I would be able to sleep on it . The accountant entered the place and he said this what noise is this can you know what is happening this man is absolutely driving me crazy he seems to be deaf when I say something he responds by saying something else fine you keep your mouth shut let me talk to him and deal with him after that the accountant went to ramayya and said this to him listen to me . The worker takes ramayya into the charitable building and gets a Sher ready for him . The worker then looks at him and says this could you please give me some money at least now I have arrange a shower for you what you yourself want to personally rub my back are you my wife to do that? Ramaya stands in the corner as Ramaya takes a shower and then changes his clothes and looks at the worker and says this why are you still here didn't I tell you to go and get my food ready immediately I'm really hungry the worker does not know what to say or do . Walker felt like killing himself but then realized that he cannot converse with this man again he then takes him to the place where he can feed him . The woman who was serving food came to him and she said this give me money and I Shall Serve You food worker tries to talks to the woman but she interrupts and says you should have taken some money from him from the beginning . The worker quietly walks out of the house he STS through the window to know what is happening there he was curious please give me food as fast as you can I want to eat and go to sleep please bring me the food I will give you the food don't worry but first give me my money I do not have any diseases whatsoever . If I I I ask you for money for food instead of giving me the money you are telling me that my husband is dead and my children are also dead and you are cursing me like this if you don't give me money I will not give you food . Ramaya then looks around to see what she can do but she did not know how to solve this issue . The worker who was staring from the window was laughing if I I Bushan and several of Elders in the village went to visit the charitable building but just to check if everything is going well as soon as bushan reached the building the accountant greeted him but the people inside like worker and the woman what was happening outside you are a deaf man but how dare you talk to her . Ramaya is none other than Ban's first son who is studying in the city father 2 days ago my friend came to stay here but he was thrown away by these people and he wasn't given any food or Hospitality that is the reason why I came in here and acted like a deaf man . Those people were fired and new people were brought into work in the charitable building . Once in every two weeks there would be somebody there to check and regulate if everything is going well from that day onwards charitable building started helping people again ."
     ]
    }
   ],
   "source": [
    "import time\n",
    "\n",
    "for i in summarized_text:\n",
    "    for j in range(len(i)):\n",
    "        print(i[j], end='', flush=True)  \n",
    "        time.sleep(0.000001) \n"
   ]
  }
 ],
 "metadata": {
  "kernelspec": {
   "display_name": "Python 3 (ipykernel)",
   "language": "python",
   "name": "python3"
  },
  "language_info": {
   "codemirror_mode": {
    "name": "ipython",
    "version": 3
   },
   "file_extension": ".py",
   "mimetype": "text/x-python",
   "name": "python",
   "nbconvert_exporter": "python",
   "pygments_lexer": "ipython3",
   "version": "3.10.9"
  }
 },
 "nbformat": 4,
 "nbformat_minor": 5
}
